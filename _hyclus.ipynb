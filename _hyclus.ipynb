{
 "cells": [
  {
   "cell_type": "code",
   "execution_count": 1,
   "metadata": {},
   "outputs": [],
   "source": [
    "# import key libs\n",
    "import os, rasterio\n",
    "import numpy as np\n",
    "from tqdm import tqdm\n",
    "from math import ceil\n",
    "import multiprocessing as mp\n",
    "from scipy.interpolate import interp1d\n",
    "\n",
    "# import clustering related modules\n",
    "from cuml import UMAP\n",
    "from sknetwork.clustering import Louvain\n",
    "from sklearn.model_selection import train_test_split as TTS\n",
    "from sklearn.preprocessing import minmax_scale, MinMaxScaler, StandardScaler\n",
    "\n",
    "# import plotting libs\n",
    "import glasbey\n",
    "import matplotlib as mpl\n",
    "import matplotlib.pyplot as plt\n",
    "\n",
    "\n",
    "from csiro_spectral_tools.hulls.convexhulls import uc_hulls\n",
    "\n",
    "from src import *\n",
    "import torch\n",
    "import torch.nn as nn\n",
    "from fastai.vision.all import *\n",
    "from torch.utils.data import TensorDataset, DataLoader"
   ]
  },
  {
   "cell_type": "markdown",
   "metadata": {},
   "source": [
    "## Set Data Paths"
   ]
  },
  {
   "cell_type": "code",
   "execution_count": 2,
   "metadata": {},
   "outputs": [],
   "source": [
    "\n",
    "# raw spectral data cube\n",
    "hsi_fn = \"*.bil\"\n",
    "\n",
    "# set path to cluster fn\n",
    "cluster_fn = ''\n",
    "\n",
    "# set path to output directory on EFS\n",
    "out_dir = \"/mnt/outputs/\"  \n",
    "if not os.path.exists(out_dir):\n",
    "    os.mkdir(out_dir)"
   ]
  },
  {
   "cell_type": "markdown",
   "metadata": {},
   "source": [
    "## Generate Sampling Mask\n",
    "\n",
    "Read the cluster map from the 2nd iteration of clustering to generate a boolean pixel selection map. This defines regions of the data cube that are unvegetated, not water and not in the shade. "
   ]
  },
  {
   "cell_type": "code",
   "execution_count": null,
   "metadata": {},
   "outputs": [],
   "source": [
    "%%time\n",
    "\n",
    "\n",
    "if os.path.exists(cluster_fn):\n",
    "    # load the cluster map\n",
    "    with rasterio.open(cluster_fn, 'r') as src:\n",
    "        cluster_map = src.read(1)\n",
    "    # create a boolean mask\n",
    "    geo_map = np.invert(np.isin(cluster_map, [999, 6, 15, 5, 25, 26]))\n",
    "\n",
    "    # plot for sanity check\n",
    "    plt.imshow(geo_map)\n",
    "    plt.show()\n",
    "else:\n",
    "    src = rasterio.open(hsi_fn, \"r\")\n",
    "    print(src.shape)\n",
    "    print(src.res)\n",
    "    arr = src.read(30)\n",
    "    src.close()\n",
    "    geo_map = np.invert(np.isin(arr, [-99]))\n",
    "    fig, ax=plt.subplots(1, 2)\n",
    "    ax[0].imshow(geo_map)\n",
    "    ax[1].imshow(arr)\n",
    "    plt.show()"
   ]
  },
  {
   "cell_type": "markdown",
   "metadata": {},
   "source": [
    "## Sample Data Cube\n",
    "\n",
    "Use hyperlib function to sample the data cube at a spatial resolution of 25 metres within the sampling map."
   ]
  },
  {
   "cell_type": "code",
   "execution_count": 4,
   "metadata": {},
   "outputs": [
    {
     "name": "stdout",
     "output_type": "stream",
     "text": [
      "Working on 12 processors...\n"
     ]
    },
    {
     "name": "stderr",
     "output_type": "stream",
     "text": [
      "100%|██████████| 3494/3494 [06:09<00:00,  9.46it/s]\n"
     ]
    },
    {
     "data": {
      "text/plain": [
       "(6290218, 125)"
      ]
     },
     "execution_count": 4,
     "metadata": {},
     "output_type": "execute_result"
    }
   ],
   "source": [
    "# use the geo map to sample the data cube\n",
    "spc = 7 #m\n",
    "samples = sample_parallel_Nth_pixel_with_map(hsi_fn, spacing=spc, label_map=geo_map)\n",
    "samples.shape"
   ]
  },
  {
   "cell_type": "code",
   "execution_count": 5,
   "metadata": {},
   "outputs": [
    {
     "name": "stdout",
     "output_type": "stream",
     "text": [
      "[ 14.8  14.7  14.7  14.7  14.6  14.7  14.6  14.7  14.5  14.6  14.6  14.5\n",
      "  14.6  14.5  14.5  14.5  14.4  14.5  14.4  14.4  14.4  14.3  14.4  14.3\n",
      "  14.3  14.3  14.3  14.3  14.2  14.3   3.9  15.6  15.5  15.5  15.4  15.3\n",
      "  15.3  15.1  15.1  15.   14.9  14.9  14.8  14.7  14.6  14.6  14.4  14.4\n",
      "  14.4  14.2  14.2  14.1  14.   13.9  13.9  13.8  13.7  13.6  13.6  13.5\n",
      "  13.4  57.1  15.   15.   14.8  14.8  14.6  14.5  14.5  14.3  14.2  14.1\n",
      "  13.9  13.9  13.8  13.7  13.5  13.5  13.3  13.3  13.1  13.1  12.9  12.8\n",
      "  12.7  12.6  12.5  12.4  12.3  12.1  12.1  12.   11.8 133.2  19.4  19.3\n",
      "  19.2  19.   18.9  18.8  18.7  18.6  18.4  18.3  18.2  18.   18.   17.8\n",
      "  17.6  17.6  17.4  17.3  17.2  17.1  16.9  16.8  16.7  16.6  16.4  16.3\n",
      "  16.2  16.1  15.9  15.8]\n"
     ]
    },
    {
     "data": {
      "text/plain": [
       "((125,), 6.29)"
      ]
     },
     "execution_count": 5,
     "metadata": {},
     "output_type": "execute_result"
    }
   ],
   "source": [
    "# get wavelengths from cube\n",
    "with rasterio.open(hsi_fn, 'r') as src:\n",
    "    wvl = np.array([float(x.split(' ')[-1].strip('()'))*1000 for x in src.descriptions])\n",
    "\n",
    "# generate a rounded number in millions for the number of samples\n",
    "N_samps = round(samples.shape[0] / 1000000, 2)\n",
    "\n",
    "print(np.diff(wvl))\n",
    "wvl.shape, N_samps"
   ]
  },
  {
   "cell_type": "markdown",
   "metadata": {},
   "source": [
    "## Run Convex Hull \n",
    "\n",
    "Run convex hull on part of the spectrum unaffected by atmospheric OH absorption at ~1400nm and ~1900nm, vegetation below ~750nm and poor signal/noise above ~2420nm."
   ]
  },
  {
   "cell_type": "code",
   "execution_count": null,
   "metadata": {},
   "outputs": [],
   "source": [
    "# find 5 wavelengths either side of the atmospheric windows\n",
    "w = np.ones(wvl.shape[0]).astype(bool)\n",
    "for i in np.argwhere(np.diff(wvl) > 30).flatten():\n",
    "    sp = 3 # 5\n",
    "    for j in range(-sp, sp):\n",
    "        w[i-j] = False\n",
    "\n",
    "# discard 5 wavelenths at end & discard all wavelength < 750nm\n",
    "w[:np.argmin(abs(wvl-750))] = False\n",
    "w[-5:] = False\n",
    "\n",
    "# visualise the spectral observation to keep and discard on random spectra\n",
    "fig, axes = plt.subplots(3,2,figsize=(10, 10), constrained_layout=True)\n",
    "fig.patch.set_alpha(0.0)\n",
    "\n",
    "for i, ax in enumerate(axes.flatten()):\n",
    "    idx = np.random.choice(np.arange(samples.shape[0]))\n",
    "    ax.scatter(wvl[w], samples[idx,w], label='Keep')\n",
    "    ax.scatter(wvl[~w], samples[idx,~w], label='Discard')\n",
    "    ax.plot(wvl[w], samples[idx,w], c='k')\n",
    "    ax.grid(linestyle='--')\n",
    "    ax.set(title='Random Spectra', ylabel='Reflectance', xlabel='Wavelength (nm)', facecolor='#e6eaf6')\n",
    "    ax.legend()\n",
    "plt.show()"
   ]
  },
  {
   "cell_type": "code",
   "execution_count": null,
   "metadata": {},
   "outputs": [],
   "source": []
  },
  {
   "cell_type": "code",
   "execution_count": 7,
   "metadata": {},
   "outputs": [
    {
     "name": "stdout",
     "output_type": "stream",
     "text": [
      "CPU times: user 23.7 s, sys: 3.99 s, total: 27.6 s\n",
      "Wall time: 27.6 s\n"
     ]
    }
   ],
   "source": [
    "%%time\n",
    "# define a function that runs parallelised convex hull continuum removal\n",
    "def convex_hull_cont_remove(X, wvl):\n",
    "    N = mp.cpu_count()\n",
    "    in_data = [(wvl, spec) for spec in X]\n",
    "    # run parallised workflow\n",
    "    with mp.Pool(processes=N) as p:\n",
    "        results = p.map(calc_convex_hull, in_data) # per pixel upper monotone chain residual\n",
    "    return np.stack(results)\n",
    "\n",
    "def cvx_quotient(ar, wvl):\n",
    "    ar = ar.T - ar.T.min(axis=0)  # set spectral minimum value to 0\n",
    "    ar = ar.T\n",
    "    if len(ar.shape) == 1:\n",
    "        result = -uc_hulls(wvl, ar, 0) + 1\n",
    "        return result[1:-1].astype(\"float32\")\n",
    "    if len(ar.shape) == 2:\n",
    "        result = -uc_hulls(wvl, ar, 0) + 1\n",
    "        return result[:, 1:-1].astype(\"float32\")\n",
    "    if len(ar.shape) == 3:\n",
    "        result = -uc_hulls(wvl, ar, 0) + 1\n",
    "        return result[:, :, 1:-1].astype(\"float32\")\n",
    "\n",
    "# cvx_samples = convex_hull_cont_remove(samples[:,w], wvl[w])\n",
    "cvx_samples = cvx_quotient(samples[:, w], wvl[w])"
   ]
  },
  {
   "cell_type": "code",
   "execution_count": 8,
   "metadata": {},
   "outputs": [
    {
     "data": {
      "text/plain": [
       "(6290218, 125)"
      ]
     },
     "execution_count": 8,
     "metadata": {},
     "output_type": "execute_result"
    }
   ],
   "source": [
    "samples.shape"
   ]
  },
  {
   "cell_type": "code",
   "execution_count": null,
   "metadata": {},
   "outputs": [],
   "source": [
    "# plot some convex spectra\n",
    "fig, ax = plt.subplots(figsize=(11,5))\n",
    "for _ in range(1000):\n",
    "    idx = np.random.choice(np.arange(samples.shape[0]))\n",
    "    # ax.plot(wvl[w], cvx_samples[idx], alpha=0.02, c='k')\n",
    "    ax.plot(wvl[w][1:-1], cvx_samples[idx], alpha=0.02, c='k')\n",
    "plt.show()"
   ]
  },
  {
   "cell_type": "code",
   "execution_count": null,
   "metadata": {},
   "outputs": [],
   "source": [
    "# plot some spectra scaled 0 to 1\n",
    "fig, ax = plt.subplots(figsize=(11,5))\n",
    "for _ in range(1000):\n",
    "    idx = np.random.choice(np.arange(samples.shape[0]))\n",
    "    ax.plot(wvl[w][1:-1], scale_spectra(cvx_samples[idx]), alpha=0.02, c='k')\n",
    "plt.show()"
   ]
  },
  {
   "cell_type": "markdown",
   "metadata": {},
   "source": [
    "## Run Clustering"
   ]
  },
  {
   "cell_type": "code",
   "execution_count": 35,
   "metadata": {},
   "outputs": [],
   "source": [
    "torch.cuda.empty_cache()"
   ]
  },
  {
   "cell_type": "code",
   "execution_count": 20,
   "metadata": {},
   "outputs": [
    {
     "name": "stdout",
     "output_type": "stream",
     "text": [
      "CPU times: user 7min 20s, sys: 36 s, total: 7min 56s\n",
      "Wall time: 1min 37s\n"
     ]
    }
   ],
   "source": [
    "%%time\n",
    "# run 0-1 scaling on convex hull spectra\n",
    "# X = scale_spectra(cvx_samples)\n",
    "X = cvx_samples # if already scaled\n",
    "\n",
    "# fit umap to scaled spectra\n",
    "umap_obj = UMAP(n_components=2, min_dist=0.05, n_neighbors=23, metric='cosine')\n",
    "# umap_obj = UMAP(n_components=2, min_dist=0.05, n_neighbors=20, metric='euclidean')\n",
    "embeds = umap_obj.fit_transform(X)"
   ]
  },
  {
   "cell_type": "code",
   "execution_count": null,
   "metadata": {},
   "outputs": [],
   "source": [
    "# plot the embeddings space\n",
    "fig, ax = plt.subplots(figsize=(10,10))\n",
    "fig.patch.set_alpha(0.0)\n",
    "ax.scatter(embeds[:,0], embeds[:,1], c='k', s=0.05, alpha=0.05)\n",
    "ax.set(title=f'2D UMAP - CVX Spectra - Restricted Wavelengths - 25m Sample (N={N_samps}M)',\n",
    "        ylabel='UMAP1', xlabel='UMAP0',facecolor='#e6eaf6', aspect=1)\n",
    "ax.set_xlim(-20, 20)\n",
    "ax.set_ylim(-20, 20)\n",
    "ax.grid(linestyle='--')\n",
    "plt.show()"
   ]
  },
  {
   "cell_type": "code",
   "execution_count": 22,
   "metadata": {},
   "outputs": [
    {
     "data": {
      "text/plain": [
       "array([ 0,  1,  2,  3,  4,  5,  6,  7,  8,  9, 10, 11, 12, 13, 14, 15, 16,\n",
       "       17, 18, 19, 20, 21, 22, 23])"
      ]
     },
     "execution_count": 22,
     "metadata": {},
     "output_type": "execute_result"
    }
   ],
   "source": [
    "# extract the graph from the umap object\n",
    "graph = umap_obj.graph_.get()\n",
    "\n",
    "# run louvain clustering\n",
    "labels = Louvain().fit_predict(graph)\n",
    "np.unique(labels)"
   ]
  },
  {
   "cell_type": "code",
   "execution_count": 23,
   "metadata": {},
   "outputs": [
    {
     "name": "stderr",
     "output_type": "stream",
     "text": [
      "/tmp/ipykernel_44949/3052606257.py:2: MatplotlibDeprecationWarning: The get_cmap function was deprecated in Matplotlib 3.7 and will be removed in 3.11. Use ``matplotlib.colormaps[name]`` or ``matplotlib.colormaps.get_cmap()`` or ``pyplot.get_cmap()`` instead.\n",
      "  colormap = plt.cm.get_cmap('Dark2', len(np.unique(labels)))\n"
     ]
    }
   ],
   "source": [
    "# get colour dictionary for labels, use glasbey to extend colour palette\n",
    "colormap = plt.cm.get_cmap('Dark2', len(np.unique(labels)))\n",
    "colordict = dict(zip(sorted(np.unique(labels)), glasbey.extend_palette('Dark2', palette_size=np.unique(labels).shape[0])))                         "
   ]
  },
  {
   "cell_type": "code",
   "execution_count": null,
   "metadata": {},
   "outputs": [],
   "source": [
    "# calculate unique classes and class counts\n",
    "classes, counts = np.unique(labels, return_counts=True)\n",
    "\n",
    "# plot a bar chart\n",
    "fig, ax = plt.subplots(figsize=(12,5))\n",
    "fig.patch.set_alpha(0.0)\n",
    "for i in classes:\n",
    "    ax.bar(str(i), counts[i], color=colordict[i])\n",
    "    ax.text(i, counts[i]+6000, f'{counts[i]}', rotation='vertical', ha='center')\n",
    "ax.set(title=f'CVX Spectra Mineral Feature Windows - Louvain Cluster Counts', \n",
    "       facecolor='#e6eaf6', ylim=(0, counts[0]+50000), ylabel='Counts', xlabel='Cluster ID')\n",
    "ax.grid(axis='y', linestyle='--')\n",
    "plt.show()"
   ]
  },
  {
   "cell_type": "code",
   "execution_count": 25,
   "metadata": {},
   "outputs": [],
   "source": [
    "# generate a mask for pixels containing valid clusters with >1000 classes\n",
    "valid_cluster_mask = np.isin(labels, classes[np.argwhere(counts > 1000)].flatten())"
   ]
  },
  {
   "cell_type": "code",
   "execution_count": null,
   "metadata": {},
   "outputs": [],
   "source": [
    "# plot the embeddings space with labels\n",
    "fig, ax = plt.subplots(figsize=(10,10))\n",
    "fig.patch.set_alpha(0.0)\n",
    "for i in np.unique(labels[valid_cluster_mask]):\n",
    "    N = round(labels[labels==i].shape[0]/1000, 2)\n",
    "    ax.scatter(embeds[labels==i,0], embeds[labels==i,1], c=colordict[i], s=0.1, alpha=0.8, label=f'Cluster{i} (N={N}K)', linewidth=0)\n",
    "\n",
    "ax.set_xlim(-20, 20)\n",
    "ax.set_ylim(-20, 20)\n",
    "ax.set(title=f'2D UMAP - CVX Spectra Mineral Feature Windows - 25m Sample (N={N_samps}M) - Clustered', \n",
    "       ylabel='UMAP1', xlabel='UMAP0',facecolor='#e6eaf6', aspect=1)\n",
    "ax.grid(linestyle='--')\n",
    "ax.legend(title='Louvain Labels', loc=(1.02,0.01), markerscale=20)\n",
    "plt.show()"
   ]
  },
  {
   "cell_type": "code",
   "execution_count": 28,
   "metadata": {},
   "outputs": [],
   "source": [
    "# save data for model training\n",
    "out_fn = os.path.join(out_dir, 'Peru_D_Refl_Crop_refl_7m_cvxq.hdf5')\n",
    "write_hdf5_datafile(\n",
    "    out_fn = out_fn, \n",
    "    data_dict = {\n",
    "        'raw_spectra' : {'raw':samples[valid_cluster_mask], 'wvl':wvl},\n",
    "        'cvx_spectra' : {'cvx_samples':cvx_samples[valid_cluster_mask], 'cvx_wvl':wvl[w]},\n",
    "        'embeds' : {'embeds':embeds[valid_cluster_mask]},\n",
    "        'labels' : {'labels':labels[valid_cluster_mask]},\n",
    "    }\n",
    ")"
   ]
  },
  {
   "cell_type": "code",
   "execution_count": null,
   "metadata": {},
   "outputs": [],
   "source": [
    "# plot cluster convex hull spectra\n",
    "for j in np.unique(labels[valid_cluster_mask]):\n",
    "    fig, ax = plt.subplots(figsize=(10,3))\n",
    "    for _ in range(1000):\n",
    "        idx = np.random.choice(np.argwhere(labels==j).flatten())\n",
    "        ax.plot(wvl[w][1:-1], cvx_samples[idx], alpha=0.02, c='k')\n",
    "    ax.plot(wvl[w][1:-1], cvx_samples[labels==j].mean(axis=0), c='r')\n",
    "    ax.set(title=f'Cluster {j}')\n",
    "    plt.show()"
   ]
  },
  {
   "cell_type": "markdown",
   "metadata": {},
   "source": [
    "## Train Classifier and Run Inference\n",
    "\n",
    "Use cluster labels on spatial sample to train a supervised classifier to infer on the data cube. This uses the raw spectral information as model input to speed up inference on the raw data cube."
   ]
  },
  {
   "cell_type": "code",
   "execution_count": 31,
   "metadata": {},
   "outputs": [
    {
     "data": {
      "text/plain": [
       "array([ 311.8632,  513.6846,  649.366 ,  772.5616,  907.1935,  994.1978,\n",
       "       1051.2909, 1096.2058, 1105.4993, 1162.3411, 1237.4094, 1322.6422,\n",
       "       1409.172 , 1485.931 , 1562.9373, 1690.3297, 1945.7532, 2295.3774,\n",
       "       2614.3958, 2833.9604, 3012.3777, 3134.6343, 3229.6843, 3336.366 ,\n",
       "       3446.9905, 3512.6748, 3613.3767, 3661.7424, 3807.4878, 3811.5317,\n",
       "       3937.0503, 4006.7273, 4124.157 , 4182.3535, 4255.4507, 4388.5913,\n",
       "       4464.8325, 4563.2744, 4667.377 , 4742.196 , 4837.2886, 4902.592 ,\n",
       "       4984.2046, 5018.742 , 5060.69  , 5084.8228, 5040.178 , 5081.2046,\n",
       "       5004.1587, 4996.5845, 4957.3755, 4903.4697, 4853.585 , 4824.22  ,\n",
       "       4774.209 , 4728.2046, 4670.746 , 4600.6934, 4525.366 , 4429.598 ,\n",
       "       4327.56  , 4217.0273, 2544.7024, 2952.3467, 2908.2434, 2815.0044,\n",
       "       2890.9458, 2903.1333, 3000.3838, 3136.792 , 3276.893 , 3405.0952,\n",
       "       3538.6055, 3642.487 , 3757.1895, 3874.2764, 3995.36  , 4120.2827,\n",
       "       4242.9507, 4346.622 , 4413.857 , 4456.455 , 4454.2544, 4441.977 ,\n",
       "       4385.558 , 4309.9526, 4270.546 , 4254.2715, 4231.423 , 4173.6772,\n",
       "       4121.656 , 4096.7163, 3989.136 , 3830.293 , 2079.837 , 2220.924 ,\n",
       "       2381.808 , 2468.7378, 2465.083 , 2437.131 , 2378.3574, 2348.2688,\n",
       "       2403.73  , 2449.2568, 2544.4844, 2672.9102, 2761.5886, 2848.957 ,\n",
       "       2928.7798, 2887.269 , 2735.2266, 2467.3044, 2263.5173, 2167.5002,\n",
       "       2049.7449, 1967.5125, 1929.3561, 1879.7225, 1858.3053, 1809.0411,\n",
       "       1805.4927, 1763.8173, 1607.7543, 1344.0028,  980.5185],\n",
       "      dtype=float32)"
      ]
     },
     "execution_count": 31,
     "metadata": {},
     "output_type": "execute_result"
    }
   ],
   "source": [
    "samples[1]"
   ]
  },
  {
   "cell_type": "code",
   "execution_count": 32,
   "metadata": {},
   "outputs": [
    {
     "data": {
      "text/plain": [
       "(tensor([[0., 0., 0.,  ..., 0., 0., 0.],\n",
       "         [0., 1., 0.,  ..., 0., 0., 0.],\n",
       "         [0., 0., 0.,  ..., 0., 0., 0.],\n",
       "         ...,\n",
       "         [0., 0., 0.,  ..., 0., 0., 0.],\n",
       "         [0., 0., 0.,  ..., 1., 0., 0.],\n",
       "         [0., 0., 0.,  ..., 0., 0., 0.]]),\n",
       " torch.Size([1886971, 23]),\n",
       " torch.Size([1886971, 125]),\n",
       " torch.Size([4402930, 23]),\n",
       " torch.Size([4402930, 125]))"
      ]
     },
     "execution_count": 32,
     "metadata": {},
     "output_type": "execute_result"
    }
   ],
   "source": [
    "# create training and testing subsets of the raw sample\n",
    "# X_train, X_test, y_train, y_test = TTS(scale_spectra(samples[valid_cluster_mask]), labels[valid_cluster_mask], test_size=0.3)\n",
    "X_train, X_test, y_train, y_test = TTS(scale_spectra(samples[valid_cluster_mask]), labels[valid_cluster_mask], test_size=0.3)\n",
    "\n",
    "# create tensors\n",
    "X_train, y_train = classify_Xy_to_tensor(X_train, y_train)\n",
    "X_test, y_test = classify_Xy_to_tensor(X_test, y_test)\n",
    "y_test, y_test.shape, X_test.shape, y_train.shape, X_train.shape"
   ]
  },
  {
   "cell_type": "code",
   "execution_count": 33,
   "metadata": {},
   "outputs": [
    {
     "data": {
      "text/html": [
       "\n",
       "<style>\n",
       "    /* Turns off some styling */\n",
       "    progress {\n",
       "        /* gets rid of default border in Firefox and Opera. */\n",
       "        border: none;\n",
       "        /* Needs to be in here for Safari polyfill so background images work as expected. */\n",
       "        background-size: auto;\n",
       "    }\n",
       "    progress:not([value]), progress:not([value])::-webkit-progress-bar {\n",
       "        background: repeating-linear-gradient(45deg, #7e7e7e, #7e7e7e 10px, #5c5c5c 10px, #5c5c5c 20px);\n",
       "    }\n",
       "    .progress-bar-interrupted, .progress-bar-interrupted::-webkit-progress-bar {\n",
       "        background: #F44336;\n",
       "    }\n",
       "</style>\n"
      ],
      "text/plain": [
       "<IPython.core.display.HTML object>"
      ]
     },
     "metadata": {},
     "output_type": "display_data"
    },
    {
     "data": {
      "text/html": [
       "\n",
       "    <div>\n",
       "      <progress value='0' class='' max='550' style='width:300px; height:20px; vertical-align: middle;'></progress>\n",
       "      0.00% [0/550 00:00&lt;?]\n",
       "    </div>\n",
       "    \n",
       "<table border=\"1\" class=\"dataframe\">\n",
       "  <thead>\n",
       "    <tr style=\"text-align: left;\">\n",
       "      <th>epoch</th>\n",
       "      <th>train_loss</th>\n",
       "      <th>valid_loss</th>\n",
       "      <th>time</th>\n",
       "    </tr>\n",
       "  </thead>\n",
       "  <tbody>\n",
       "  </tbody>\n",
       "</table><p>\n",
       "\n",
       "    <div>\n",
       "      <progress value='0' class='' max='111' style='width:300px; height:20px; vertical-align: middle;'></progress>\n",
       "      0.00% [0/111 00:00&lt;?]\n",
       "    </div>\n",
       "    "
      ],
      "text/plain": [
       "<IPython.core.display.HTML object>"
      ]
     },
     "metadata": {},
     "output_type": "display_data"
    },
    {
     "name": "stdout",
     "output_type": "stream",
     "text": [
      "No improvement since epoch 155: early stopping\n"
     ]
    },
    {
     "data": {
      "text/plain": [
       "Path('/mnt/outputs/intermediate/area_d_cvx_swir_only/area_D_cvx_swir_only.pth')"
      ]
     },
     "execution_count": 33,
     "metadata": {},
     "output_type": "execute_result"
    }
   ],
   "source": [
    "# define model\n",
    "device = torch.device(\"cuda:0\" if torch.cuda.is_available() else \"cpu\")\n",
    "model = conv1d_classify_nn( \n",
    "    input_channels = X_train.shape[1],\n",
    "    output_channels = y_train.shape[1]).to(device)\n",
    "\n",
    "# build training and testing dataloaders\n",
    "train_dl = DataLoader(TensorDataset(X_train, y_train), batch_size=40000, shuffle=True)\n",
    "test_dl = DataLoader(TensorDataset(X_test, y_test), batch_size=40000, shuffle=True)\n",
    "\n",
    "# set a list of callbacks to track model fitting progress\n",
    "callbacks = [\n",
    "    CSVLogger(fname=os.path.join(out_dir, 'area_d_cvx_swir_only.log'), append=False),\n",
    "    EarlyStoppingCallback(monitor=\"valid_loss\", min_delta=0.0005, patience=15),\n",
    "]\n",
    "\n",
    "# use the fastai learner to fit some epochs\n",
    "learn = Learner(DataLoaders(train_dl, test_dl), model, loss_func=torch.nn.BCELoss(), opt_func=Adam,\n",
    "                path=out_dir, model_dir='area_d_cvx_swir_only')\n",
    "learn.fit(550, 0.001, cbs=callbacks)\n",
    "\n",
    "# save the model \n",
    "learn.save(file='area_D_cvx_swir_only', with_opt=True)"
   ]
  },
  {
   "cell_type": "code",
   "execution_count": null,
   "metadata": {},
   "outputs": [],
   "source": [
    "# plot the progres from the log\n",
    "df = pd.read_csv(os.path.join(out_dir, 'area_d_cvx_swir_only.log'))\n",
    "df.time = df['time'].apply(lambda x: int(x.split(':')[0]) * 60 + int(x.split(':')[1]))\n",
    "df.time = df.time.cumsum() / 60\n",
    "\n",
    "fig, ax = plt.subplots(figsize=(9,4))\n",
    "fig.patch.set_alpha(0.0)\n",
    "ax.plot(df.time, df.train_loss, label='Training Loss')\n",
    "ax.plot(df.time, df.valid_loss, label='Validation Loss')\n",
    "ax.grid(linestyle='--')\n",
    "ax.set(title='Multiclass Spectral Cluster Training & Validation Loss Curve', xlabel='Elapsed Time (minutes)', \n",
    "    ylabel='Binary Cross Entropy Loss', facecolor='#e6eaf6', yscale='log')\n",
    "ax.legend()\n",
    "plt.show()"
   ]
  },
  {
   "cell_type": "code",
   "execution_count": 35,
   "metadata": {},
   "outputs": [
    {
     "name": "stderr",
     "output_type": "stream",
     "text": [
      "  0%|          | 0/6994 [00:00<?, ?it/s]/workspaces/tool-geoscience-appdeck/a3-hsi-clustering/src/core.py:22: RuntimeWarning: invalid value encountered in divide\n",
      "  X = (X - X.min(axis=0)) / (X.max(axis=0) - X.min(axis=0))\n",
      "100%|██████████| 6994/6994 [13:26<00:00,  8.67it/s]\n"
     ]
    },
    {
     "name": "stdout",
     "output_type": "stream",
     "text": [
      "0...10...20...30...40...50...60...70...80...90...100 - done.\n",
      "Converting file to cloud optimised geotiff\n",
      "\t/mnt/outputs/intermediate/area_d_cvxq_SWIR_clusters.tif\n"
     ]
    }
   ],
   "source": [
    "# set output file name\n",
    "out_fn = os.path.join(out_dir, 'area_d_cvxq_SWIR_clusters.tif')\n",
    "\n",
    "# make a custom inference loop to write the class label, not probability\n",
    "with rasterio.open(hsi_fn, 'r') as src:\n",
    "    meta = src.meta.copy()\n",
    "    meta.update({'count':1, 'driver':'GTIFF', 'BIGTIFF':'YES', 'nodata':999, 'dtype':'int16'})\n",
    "    nodata_mask = src.read(1) == src.nodata\n",
    "    with rasterio.open(out_fn, 'w', **meta) as dst:\n",
    "        for ji, block in tqdm([x for x in src.block_windows()]):\n",
    "            hsi_window = src.read(window=block)[:, 0, :].T\n",
    "            nodata_window = nodata_mask[ji[0], :]\n",
    "            hsi_window = scale_spectra(hsi_window)\n",
    "            pred_window = get_1dcnn_predictions(learn, hsi_window, nodata_window, src.nodata) # get probabilities\n",
    "            pred_labels = np.argmax(pred_window, axis=1).astype('int16') # argmax for class\n",
    "            pred_labels[nodata_window] = 999\n",
    "            dst.write(np.array([pred_labels]), 1, window=block) \n",
    "\n",
    "# edit nodata values  using the sampling map to mask out of bounds predictions\n",
    "with rasterio.open(out_fn, 'r') as src:\n",
    "    meta = src.meta.copy()\n",
    "    with rasterio.open(out_fn.replace('.tif','_tmp.tif'), 'w', **meta) as dst:\n",
    "        a = src.read(1)\n",
    "        a[np.invert(geo_map)] = src.nodata\n",
    "        dst.write(a, 1)\n",
    "\n",
    "# remove original, rename masked file and convert to cloud optimised geotiff\n",
    "os.remove(out_fn)\n",
    "os.rename(out_fn.replace('.tif','_tmp.tif'), out_fn)\n",
    "convert_to_cog(out_fn)"
   ]
  },
  {
   "cell_type": "code",
   "execution_count": null,
   "metadata": {},
   "outputs": [],
   "source": [
    "\n",
    "out_fn = os.path.join(out_dir, 'area_d_cvxq_SWIR_clusters.tif')\n",
    "out_fn\n",
    "import rasterio\n",
    "from rasterio.plot import show\n",
    "import matplotlib.pyplot as plt\n",
    "\n",
    "# Open the raster file\n",
    "with rasterio.open(out_fn) as src:\n",
    "    fig, ax = plt.subplots(figsize=(10, 10))\n",
    "    data = src.read(1)  # Read the first band\n",
    "\n",
    "    nodata_value = 999\n",
    "    data = np.ma.masked_equal(data, nodata_value)\n",
    "\n",
    "    # Create a discrete colormap\n",
    "    cmap = plt.get_cmap('tab20', np.max(data) - np.min(data) + 1)\n",
    " \n",
    "    show(src, ax=ax, title='area d cvxq clusters', cmap=cmap)\n",
    "    cbar = fig.colorbar(cax, ticks=np.arange(np.min(data), np.max(data) + 1))\n",
    "    plt.show()"
   ]
  },
  {
   "cell_type": "code",
   "execution_count": null,
   "metadata": {},
   "outputs": [],
   "source": [
    "import colorcet as cc\n",
    "out_fn = os.path.join(out_dir, 'area_d_cvxq_SWIR_clusters.tif')\n",
    "# Open the raster file\n",
    "with rasterio.open(out_fn) as src:\n",
    "    data = src.read(1)  # Read the first band\n",
    "\n",
    "    nodata_value = 999\n",
    "    data = np.ma.masked_equal(data, nodata_value)\n",
    "\n",
    "    # Create a discrete colormap\n",
    "    cmap = plt.get_cmap('tab20', np.max(data) - np.min(data) + 1)\n",
    "    # cmap = cc.cm.glasbey_bw_minc_20_maxl_70\n",
    "\n",
    "    fig, ax = plt.subplots(figsize=(15, 15))\n",
    "    cax = ax.imshow(data, cmap=cmap, vmin=np.min(data) - 0.5, vmax=np.max(data) + 0.5)\n",
    "    cbar = fig.colorbar(cax, ticks=np.arange(np.min(data), np.max(data) + 1))\n",
    "    ax.set_title('area D cvxq cluster Map'.title())\n",
    "    plt.show()"
   ]
  },
  {
   "cell_type": "code",
   "execution_count": null,
   "metadata": {},
   "outputs": [],
   "source": [
    "cmap"
   ]
  }
 ],
 "metadata": {
  "kernelspec": {
   "display_name": "default",
   "language": "python",
   "name": "python3"
  },
  "language_info": {
   "codemirror_mode": {
    "name": "ipython",
    "version": 3
   },
   "file_extension": ".py",
   "mimetype": "text/x-python",
   "name": "python",
   "nbconvert_exporter": "python",
   "pygments_lexer": "ipython3",
   "version": "3.10.13"
  }
 },
 "nbformat": 4,
 "nbformat_minor": 2
}
